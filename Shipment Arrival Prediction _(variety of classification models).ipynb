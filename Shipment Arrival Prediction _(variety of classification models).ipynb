{
  "nbformat": 4,
  "nbformat_minor": 0,
  "metadata": {
    "colab": {
      "name": "Untitled17.ipynb",
      "provenance": [],
      "collapsed_sections": [],
      "authorship_tag": "ABX9TyNpE8l72FHz3KsjiBEeQWId",
      "include_colab_link": true
    },
    "kernelspec": {
      "name": "python3",
      "display_name": "Python 3"
    },
    "language_info": {
      "name": "python"
    }
  },
  "cells": [
    {
      "cell_type": "markdown",
      "metadata": {
        "id": "view-in-github",
        "colab_type": "text"
      },
      "source": [
        "<a href=\"https://colab.research.google.com/github/shohdy-source/Machine-Learing-Deep-Learning-/blob/main/Shipment%20Arrival%20Prediction%20_(variety%20of%20classification%20models).ipynb\" target=\"_parent\"><img src=\"https://colab.research.google.com/assets/colab-badge.svg\" alt=\"Open In Colab\"/></a>"
      ]
    },
    {
      "cell_type": "markdown",
      "metadata": {
        "id": "RZDAZEzqYem1"
      },
      "source": [
        "Given data about online shipments, let's try to predict whether a given shipment will arrive on time.\n",
        "\n",
        "We will use a variety of classification models to make our predictions."
      ]
    },
    {
      "cell_type": "code",
      "metadata": {
        "id": "j92yQe8BYx3J"
      },
      "source": [
        "import numpy as np\n",
        "import pandas as pd\n",
        "\n",
        "from sklearn.model_selection import train_test_split\n",
        "from sklearn.preprocessing import StandardScaler\n",
        "\n",
        "from sklearn.linear_model import LogisticRegression\n",
        "from sklearn.neighbors import KNeighborsClassifier\n",
        "from sklearn.tree import DecisionTreeClassifier\n",
        "from sklearn.svm import LinearSVC, SVC\n",
        "from sklearn.neural_network import MLPClassifier\n",
        "from sklearn.ensemble import RandomForestClassifier, GradientBoostingClassifier\n",
        "from xgboost import XGBClassifier\n",
        "from lightgbm import LGBMClassifier\n",
        "from catboost import CatBoostClassifier\n",
        "\n",
        "import warnings\n",
        "warnings.filterwarnings(action='ignore')\n",
        "import io\n"
      ],
      "execution_count": 5,
      "outputs": []
    },
    {
      "cell_type": "code",
      "metadata": {
        "colab": {
          "base_uri": "https://localhost:8080/"
        },
        "id": "eeF3_9rsZCoE",
        "outputId": "e54234a6-1040-4d1a-9183-240a33500970"
      },
      "source": [
        "pip install catboost"
      ],
      "execution_count": 2,
      "outputs": [
        {
          "output_type": "stream",
          "text": [
            "Collecting catboost\n",
            "\u001b[?25l  Downloading https://files.pythonhosted.org/packages/47/80/8e9c57ec32dfed6ba2922bc5c96462cbf8596ce1a6f5de532ad1e43e53fe/catboost-0.25.1-cp37-none-manylinux1_x86_64.whl (67.3MB)\n",
            "\u001b[K     |████████████████████████████████| 67.3MB 57kB/s \n",
            "\u001b[?25hRequirement already satisfied: pandas>=0.24.0 in /usr/local/lib/python3.7/dist-packages (from catboost) (1.1.5)\n",
            "Requirement already satisfied: plotly in /usr/local/lib/python3.7/dist-packages (from catboost) (4.4.1)\n",
            "Requirement already satisfied: matplotlib in /usr/local/lib/python3.7/dist-packages (from catboost) (3.2.2)\n",
            "Requirement already satisfied: six in /usr/local/lib/python3.7/dist-packages (from catboost) (1.15.0)\n",
            "Requirement already satisfied: scipy in /usr/local/lib/python3.7/dist-packages (from catboost) (1.4.1)\n",
            "Requirement already satisfied: numpy>=1.16.0 in /usr/local/lib/python3.7/dist-packages (from catboost) (1.19.5)\n",
            "Requirement already satisfied: graphviz in /usr/local/lib/python3.7/dist-packages (from catboost) (0.10.1)\n",
            "Requirement already satisfied: python-dateutil>=2.7.3 in /usr/local/lib/python3.7/dist-packages (from pandas>=0.24.0->catboost) (2.8.1)\n",
            "Requirement already satisfied: pytz>=2017.2 in /usr/local/lib/python3.7/dist-packages (from pandas>=0.24.0->catboost) (2018.9)\n",
            "Requirement already satisfied: retrying>=1.3.3 in /usr/local/lib/python3.7/dist-packages (from plotly->catboost) (1.3.3)\n",
            "Requirement already satisfied: pyparsing!=2.0.4,!=2.1.2,!=2.1.6,>=2.0.1 in /usr/local/lib/python3.7/dist-packages (from matplotlib->catboost) (2.4.7)\n",
            "Requirement already satisfied: cycler>=0.10 in /usr/local/lib/python3.7/dist-packages (from matplotlib->catboost) (0.10.0)\n",
            "Requirement already satisfied: kiwisolver>=1.0.1 in /usr/local/lib/python3.7/dist-packages (from matplotlib->catboost) (1.3.1)\n",
            "Installing collected packages: catboost\n",
            "Successfully installed catboost-0.25.1\n"
          ],
          "name": "stdout"
        }
      ]
    },
    {
      "cell_type": "code",
      "metadata": {
        "colab": {
          "resources": {
            "http://localhost:8080/nbextensions/google.colab/files.js": {
              "data": "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",
              "ok": true,
              "headers": [
                [
                  "content-type",
                  "application/javascript"
                ]
              ],
              "status": 200,
              "status_text": ""
            }
          },
          "base_uri": "https://localhost:8080/",
          "height": 72
        },
        "id": "WmfOoZ5LewOD",
        "outputId": "59e6e7fb-455a-49f6-b3de-cae256edfd9f"
      },
      "source": [
        "from google.colab import files\n",
        "\n",
        "\n",
        "uploaded = files.upload()"
      ],
      "execution_count": 6,
      "outputs": [
        {
          "output_type": "display_data",
          "data": {
            "text/html": [
              "\n",
              "     <input type=\"file\" id=\"files-9828ba73-703d-4b0c-9752-0822873e1b70\" name=\"files[]\" multiple disabled\n",
              "        style=\"border:none\" />\n",
              "     <output id=\"result-9828ba73-703d-4b0c-9752-0822873e1b70\">\n",
              "      Upload widget is only available when the cell has been executed in the\n",
              "      current browser session. Please rerun this cell to enable.\n",
              "      </output>\n",
              "      <script src=\"/nbextensions/google.colab/files.js\"></script> "
            ],
            "text/plain": [
              "<IPython.core.display.HTML object>"
            ]
          },
          "metadata": {
            "tags": []
          }
        },
        {
          "output_type": "stream",
          "text": [
            "Saving Train.csv to Train.csv\n"
          ],
          "name": "stdout"
        }
      ]
    },
    {
      "cell_type": "code",
      "metadata": {
        "colab": {
          "base_uri": "https://localhost:8080/",
          "height": 439
        },
        "id": "m-s8UvRcfvEd",
        "outputId": "67c1f281-919c-4ae5-ce4c-20097ff41190"
      },
      "source": [
        "data = pd.read_csv(io.BytesIO(uploaded['Train.csv']))\n",
        "data"
      ],
      "execution_count": 7,
      "outputs": [
        {
          "output_type": "execute_result",
          "data": {
            "text/html": [
              "<div>\n",
              "<style scoped>\n",
              "    .dataframe tbody tr th:only-of-type {\n",
              "        vertical-align: middle;\n",
              "    }\n",
              "\n",
              "    .dataframe tbody tr th {\n",
              "        vertical-align: top;\n",
              "    }\n",
              "\n",
              "    .dataframe thead th {\n",
              "        text-align: right;\n",
              "    }\n",
              "</style>\n",
              "<table border=\"1\" class=\"dataframe\">\n",
              "  <thead>\n",
              "    <tr style=\"text-align: right;\">\n",
              "      <th></th>\n",
              "      <th>ID</th>\n",
              "      <th>Warehouse_block</th>\n",
              "      <th>Mode_of_Shipment</th>\n",
              "      <th>Customer_care_calls</th>\n",
              "      <th>Customer_rating</th>\n",
              "      <th>Cost_of_the_Product</th>\n",
              "      <th>Prior_purchases</th>\n",
              "      <th>Product_importance</th>\n",
              "      <th>Gender</th>\n",
              "      <th>Discount_offered</th>\n",
              "      <th>Weight_in_gms</th>\n",
              "      <th>Reached.on.Time_Y.N</th>\n",
              "    </tr>\n",
              "  </thead>\n",
              "  <tbody>\n",
              "    <tr>\n",
              "      <th>0</th>\n",
              "      <td>1</td>\n",
              "      <td>D</td>\n",
              "      <td>Flight</td>\n",
              "      <td>4</td>\n",
              "      <td>2</td>\n",
              "      <td>177</td>\n",
              "      <td>3</td>\n",
              "      <td>low</td>\n",
              "      <td>F</td>\n",
              "      <td>44</td>\n",
              "      <td>1233</td>\n",
              "      <td>1</td>\n",
              "    </tr>\n",
              "    <tr>\n",
              "      <th>1</th>\n",
              "      <td>2</td>\n",
              "      <td>F</td>\n",
              "      <td>Flight</td>\n",
              "      <td>4</td>\n",
              "      <td>5</td>\n",
              "      <td>216</td>\n",
              "      <td>2</td>\n",
              "      <td>low</td>\n",
              "      <td>M</td>\n",
              "      <td>59</td>\n",
              "      <td>3088</td>\n",
              "      <td>1</td>\n",
              "    </tr>\n",
              "    <tr>\n",
              "      <th>2</th>\n",
              "      <td>3</td>\n",
              "      <td>A</td>\n",
              "      <td>Flight</td>\n",
              "      <td>2</td>\n",
              "      <td>2</td>\n",
              "      <td>183</td>\n",
              "      <td>4</td>\n",
              "      <td>low</td>\n",
              "      <td>M</td>\n",
              "      <td>48</td>\n",
              "      <td>3374</td>\n",
              "      <td>1</td>\n",
              "    </tr>\n",
              "    <tr>\n",
              "      <th>3</th>\n",
              "      <td>4</td>\n",
              "      <td>B</td>\n",
              "      <td>Flight</td>\n",
              "      <td>3</td>\n",
              "      <td>3</td>\n",
              "      <td>176</td>\n",
              "      <td>4</td>\n",
              "      <td>medium</td>\n",
              "      <td>M</td>\n",
              "      <td>10</td>\n",
              "      <td>1177</td>\n",
              "      <td>1</td>\n",
              "    </tr>\n",
              "    <tr>\n",
              "      <th>4</th>\n",
              "      <td>5</td>\n",
              "      <td>C</td>\n",
              "      <td>Flight</td>\n",
              "      <td>2</td>\n",
              "      <td>2</td>\n",
              "      <td>184</td>\n",
              "      <td>3</td>\n",
              "      <td>medium</td>\n",
              "      <td>F</td>\n",
              "      <td>46</td>\n",
              "      <td>2484</td>\n",
              "      <td>1</td>\n",
              "    </tr>\n",
              "    <tr>\n",
              "      <th>...</th>\n",
              "      <td>...</td>\n",
              "      <td>...</td>\n",
              "      <td>...</td>\n",
              "      <td>...</td>\n",
              "      <td>...</td>\n",
              "      <td>...</td>\n",
              "      <td>...</td>\n",
              "      <td>...</td>\n",
              "      <td>...</td>\n",
              "      <td>...</td>\n",
              "      <td>...</td>\n",
              "      <td>...</td>\n",
              "    </tr>\n",
              "    <tr>\n",
              "      <th>10994</th>\n",
              "      <td>10995</td>\n",
              "      <td>A</td>\n",
              "      <td>Ship</td>\n",
              "      <td>4</td>\n",
              "      <td>1</td>\n",
              "      <td>252</td>\n",
              "      <td>5</td>\n",
              "      <td>medium</td>\n",
              "      <td>F</td>\n",
              "      <td>1</td>\n",
              "      <td>1538</td>\n",
              "      <td>1</td>\n",
              "    </tr>\n",
              "    <tr>\n",
              "      <th>10995</th>\n",
              "      <td>10996</td>\n",
              "      <td>B</td>\n",
              "      <td>Ship</td>\n",
              "      <td>4</td>\n",
              "      <td>1</td>\n",
              "      <td>232</td>\n",
              "      <td>5</td>\n",
              "      <td>medium</td>\n",
              "      <td>F</td>\n",
              "      <td>6</td>\n",
              "      <td>1247</td>\n",
              "      <td>0</td>\n",
              "    </tr>\n",
              "    <tr>\n",
              "      <th>10996</th>\n",
              "      <td>10997</td>\n",
              "      <td>C</td>\n",
              "      <td>Ship</td>\n",
              "      <td>5</td>\n",
              "      <td>4</td>\n",
              "      <td>242</td>\n",
              "      <td>5</td>\n",
              "      <td>low</td>\n",
              "      <td>F</td>\n",
              "      <td>4</td>\n",
              "      <td>1155</td>\n",
              "      <td>0</td>\n",
              "    </tr>\n",
              "    <tr>\n",
              "      <th>10997</th>\n",
              "      <td>10998</td>\n",
              "      <td>F</td>\n",
              "      <td>Ship</td>\n",
              "      <td>5</td>\n",
              "      <td>2</td>\n",
              "      <td>223</td>\n",
              "      <td>6</td>\n",
              "      <td>medium</td>\n",
              "      <td>M</td>\n",
              "      <td>2</td>\n",
              "      <td>1210</td>\n",
              "      <td>0</td>\n",
              "    </tr>\n",
              "    <tr>\n",
              "      <th>10998</th>\n",
              "      <td>10999</td>\n",
              "      <td>D</td>\n",
              "      <td>Ship</td>\n",
              "      <td>2</td>\n",
              "      <td>5</td>\n",
              "      <td>155</td>\n",
              "      <td>5</td>\n",
              "      <td>low</td>\n",
              "      <td>F</td>\n",
              "      <td>6</td>\n",
              "      <td>1639</td>\n",
              "      <td>0</td>\n",
              "    </tr>\n",
              "  </tbody>\n",
              "</table>\n",
              "<p>10999 rows × 12 columns</p>\n",
              "</div>"
            ],
            "text/plain": [
              "          ID Warehouse_block  ... Weight_in_gms  Reached.on.Time_Y.N\n",
              "0          1               D  ...          1233                    1\n",
              "1          2               F  ...          3088                    1\n",
              "2          3               A  ...          3374                    1\n",
              "3          4               B  ...          1177                    1\n",
              "4          5               C  ...          2484                    1\n",
              "...      ...             ...  ...           ...                  ...\n",
              "10994  10995               A  ...          1538                    1\n",
              "10995  10996               B  ...          1247                    0\n",
              "10996  10997               C  ...          1155                    0\n",
              "10997  10998               F  ...          1210                    0\n",
              "10998  10999               D  ...          1639                    0\n",
              "\n",
              "[10999 rows x 12 columns]"
            ]
          },
          "metadata": {
            "tags": []
          },
          "execution_count": 7
        }
      ]
    },
    {
      "cell_type": "code",
      "metadata": {
        "colab": {
          "base_uri": "https://localhost:8080/"
        },
        "id": "jtur3AhegFrN",
        "outputId": "82464277-7dee-4aac-ab24-4f9437d870ad"
      },
      "source": [
        "data.info()\n"
      ],
      "execution_count": 8,
      "outputs": [
        {
          "output_type": "stream",
          "text": [
            "<class 'pandas.core.frame.DataFrame'>\n",
            "RangeIndex: 10999 entries, 0 to 10998\n",
            "Data columns (total 12 columns):\n",
            " #   Column               Non-Null Count  Dtype \n",
            "---  ------               --------------  ----- \n",
            " 0   ID                   10999 non-null  int64 \n",
            " 1   Warehouse_block      10999 non-null  object\n",
            " 2   Mode_of_Shipment     10999 non-null  object\n",
            " 3   Customer_care_calls  10999 non-null  int64 \n",
            " 4   Customer_rating      10999 non-null  int64 \n",
            " 5   Cost_of_the_Product  10999 non-null  int64 \n",
            " 6   Prior_purchases      10999 non-null  int64 \n",
            " 7   Product_importance   10999 non-null  object\n",
            " 8   Gender               10999 non-null  object\n",
            " 9   Discount_offered     10999 non-null  int64 \n",
            " 10  Weight_in_gms        10999 non-null  int64 \n",
            " 11  Reached.on.Time_Y.N  10999 non-null  int64 \n",
            "dtypes: int64(8), object(4)\n",
            "memory usage: 1.0+ MB\n"
          ],
          "name": "stdout"
        }
      ]
    },
    {
      "cell_type": "markdown",
      "metadata": {
        "id": "f0jcIkzagOVQ"
      },
      "source": [
        "**Preprocessing**\n"
      ]
    },
    {
      "cell_type": "code",
      "metadata": {
        "id": "OQc4rZ93gIPA"
      },
      "source": [
        "def onehot_encode(df, column):\n",
        "    df = df.copy()\n",
        "    dummies = pd.get_dummies(df[column], prefix=column)\n",
        "    df = pd.concat([df, dummies], axis=1)\n",
        "    df = df.drop(column, axis=1)\n",
        "    return df"
      ],
      "execution_count": 9,
      "outputs": []
    },
    {
      "cell_type": "code",
      "metadata": {
        "id": "gMghUtuJgIYF"
      },
      "source": [
        "def preprocess_inputs(df):\n",
        "    df = df.copy()\n",
        "    \n",
        "    # Drop ID column\n",
        "    df = df.drop('ID', axis=1)\n",
        "    \n",
        "    # Binary encoding\n",
        "    df['Gender'] = df['Gender'].replace({'F': 0, 'M': 1})\n",
        "    \n",
        "    # One-hot encoding\n",
        "    for column in ['Warehouse_block', 'Mode_of_Shipment', 'Product_importance']:\n",
        "        df = onehot_encode(df, column=column)\n",
        "    \n",
        "    # Split df into X and y\n",
        "    y = df['Reached.on.Time_Y.N']\n",
        "    X = df.drop('Reached.on.Time_Y.N', axis=1)\n",
        "     # Train-test split\n",
        "    X_train, X_test, y_train, y_test = train_test_split(X, y, train_size=0.7, shuffle=True, random_state=1)\n",
        "    \n",
        "    # Scale X\n",
        "    scaler = StandardScaler()\n",
        "    scaler.fit(X_train)\n",
        "    X_train = pd.DataFrame(scaler.transform(X_train), index=X_train.index, columns=X_train.columns)\n",
        "    X_test = pd.DataFrame(scaler.transform(X_test), index=X_test.index, columns=X_test.columns)\n",
        "    \n",
        "    return X_train, X_test, y_train, y_test"
      ],
      "execution_count": 10,
      "outputs": []
    },
    {
      "cell_type": "code",
      "metadata": {
        "id": "zO7Fg37wgxuX"
      },
      "source": [
        "X_train, X_test, y_train, y_test = preprocess_inputs(data)\n"
      ],
      "execution_count": 11,
      "outputs": []
    },
    {
      "cell_type": "code",
      "metadata": {
        "colab": {
          "base_uri": "https://localhost:8080/",
          "height": 439
        },
        "id": "F84JMRDxgza6",
        "outputId": "353052fe-2d6e-4fcb-98ba-69ab43656e5d"
      },
      "source": [
        "X_train\n"
      ],
      "execution_count": 12,
      "outputs": [
        {
          "output_type": "execute_result",
          "data": {
            "text/html": [
              "<div>\n",
              "<style scoped>\n",
              "    .dataframe tbody tr th:only-of-type {\n",
              "        vertical-align: middle;\n",
              "    }\n",
              "\n",
              "    .dataframe tbody tr th {\n",
              "        vertical-align: top;\n",
              "    }\n",
              "\n",
              "    .dataframe thead th {\n",
              "        text-align: right;\n",
              "    }\n",
              "</style>\n",
              "<table border=\"1\" class=\"dataframe\">\n",
              "  <thead>\n",
              "    <tr style=\"text-align: right;\">\n",
              "      <th></th>\n",
              "      <th>Customer_care_calls</th>\n",
              "      <th>Customer_rating</th>\n",
              "      <th>Cost_of_the_Product</th>\n",
              "      <th>Prior_purchases</th>\n",
              "      <th>Gender</th>\n",
              "      <th>Discount_offered</th>\n",
              "      <th>Weight_in_gms</th>\n",
              "      <th>Warehouse_block_A</th>\n",
              "      <th>Warehouse_block_B</th>\n",
              "      <th>Warehouse_block_C</th>\n",
              "      <th>Warehouse_block_D</th>\n",
              "      <th>Warehouse_block_F</th>\n",
              "      <th>Mode_of_Shipment_Flight</th>\n",
              "      <th>Mode_of_Shipment_Road</th>\n",
              "      <th>Mode_of_Shipment_Ship</th>\n",
              "      <th>Product_importance_high</th>\n",
              "      <th>Product_importance_low</th>\n",
              "      <th>Product_importance_medium</th>\n",
              "    </tr>\n",
              "  </thead>\n",
              "  <tbody>\n",
              "    <tr>\n",
              "      <th>4177</th>\n",
              "      <td>-0.051017</td>\n",
              "      <td>1.422394</td>\n",
              "      <td>-1.289402</td>\n",
              "      <td>-0.371349</td>\n",
              "      <td>1.001690</td>\n",
              "      <td>-0.266367</td>\n",
              "      <td>0.803593</td>\n",
              "      <td>-0.443829</td>\n",
              "      <td>-0.446551</td>\n",
              "      <td>-0.445505</td>\n",
              "      <td>-0.451563</td>\n",
              "      <td>1.411463</td>\n",
              "      <td>-0.434148</td>\n",
              "      <td>-0.441940</td>\n",
              "      <td>0.689133</td>\n",
              "      <td>-0.308738</td>\n",
              "      <td>1.039891</td>\n",
              "      <td>-0.873034</td>\n",
              "    </tr>\n",
              "    <tr>\n",
              "      <th>1616</th>\n",
              "      <td>-0.923855</td>\n",
              "      <td>0.715649</td>\n",
              "      <td>-1.874430</td>\n",
              "      <td>-0.371349</td>\n",
              "      <td>-0.998313</td>\n",
              "      <td>3.091967</td>\n",
              "      <td>-1.245664</td>\n",
              "      <td>2.253122</td>\n",
              "      <td>-0.446551</td>\n",
              "      <td>-0.445505</td>\n",
              "      <td>-0.451563</td>\n",
              "      <td>-0.708485</td>\n",
              "      <td>-0.434148</td>\n",
              "      <td>-0.441940</td>\n",
              "      <td>0.689133</td>\n",
              "      <td>-0.308738</td>\n",
              "      <td>1.039891</td>\n",
              "      <td>-0.873034</td>\n",
              "    </tr>\n",
              "    <tr>\n",
              "      <th>2775</th>\n",
              "      <td>-0.051017</td>\n",
              "      <td>-1.404585</td>\n",
              "      <td>-0.683481</td>\n",
              "      <td>-0.371349</td>\n",
              "      <td>1.001690</td>\n",
              "      <td>0.355547</td>\n",
              "      <td>-1.064775</td>\n",
              "      <td>-0.443829</td>\n",
              "      <td>2.239385</td>\n",
              "      <td>-0.445505</td>\n",
              "      <td>-0.451563</td>\n",
              "      <td>-0.708485</td>\n",
              "      <td>-0.434148</td>\n",
              "      <td>-0.441940</td>\n",
              "      <td>0.689133</td>\n",
              "      <td>-0.308738</td>\n",
              "      <td>1.039891</td>\n",
              "      <td>-0.873034</td>\n",
              "    </tr>\n",
              "    <tr>\n",
              "      <th>10272</th>\n",
              "      <td>-0.051017</td>\n",
              "      <td>0.715649</td>\n",
              "      <td>-1.059570</td>\n",
              "      <td>-0.371349</td>\n",
              "      <td>1.001690</td>\n",
              "      <td>-0.515133</td>\n",
              "      <td>0.489031</td>\n",
              "      <td>-0.443829</td>\n",
              "      <td>-0.446551</td>\n",
              "      <td>-0.445505</td>\n",
              "      <td>2.214530</td>\n",
              "      <td>-0.708485</td>\n",
              "      <td>2.303364</td>\n",
              "      <td>-0.441940</td>\n",
              "      <td>-1.451099</td>\n",
              "      <td>-0.308738</td>\n",
              "      <td>-0.961639</td>\n",
              "      <td>1.145431</td>\n",
              "    </tr>\n",
              "    <tr>\n",
              "      <th>6836</th>\n",
              "      <td>-0.051017</td>\n",
              "      <td>0.008904</td>\n",
              "      <td>0.758195</td>\n",
              "      <td>-0.371349</td>\n",
              "      <td>-0.998313</td>\n",
              "      <td>-0.763898</td>\n",
              "      <td>0.963634</td>\n",
              "      <td>2.253122</td>\n",
              "      <td>-0.446551</td>\n",
              "      <td>-0.445505</td>\n",
              "      <td>-0.451563</td>\n",
              "      <td>-0.708485</td>\n",
              "      <td>-0.434148</td>\n",
              "      <td>2.262749</td>\n",
              "      <td>-1.451099</td>\n",
              "      <td>3.238988</td>\n",
              "      <td>-0.961639</td>\n",
              "      <td>-0.873034</td>\n",
              "    </tr>\n",
              "    <tr>\n",
              "      <th>...</th>\n",
              "      <td>...</td>\n",
              "      <td>...</td>\n",
              "      <td>...</td>\n",
              "      <td>...</td>\n",
              "      <td>...</td>\n",
              "      <td>...</td>\n",
              "      <td>...</td>\n",
              "      <td>...</td>\n",
              "      <td>...</td>\n",
              "      <td>...</td>\n",
              "      <td>...</td>\n",
              "      <td>...</td>\n",
              "      <td>...</td>\n",
              "      <td>...</td>\n",
              "      <td>...</td>\n",
              "      <td>...</td>\n",
              "      <td>...</td>\n",
              "      <td>...</td>\n",
              "    </tr>\n",
              "    <tr>\n",
              "      <th>7813</th>\n",
              "      <td>-0.051017</td>\n",
              "      <td>-1.404585</td>\n",
              "      <td>0.611938</td>\n",
              "      <td>-0.371349</td>\n",
              "      <td>-0.998313</td>\n",
              "      <td>-0.577324</td>\n",
              "      <td>0.701805</td>\n",
              "      <td>-0.443829</td>\n",
              "      <td>-0.446551</td>\n",
              "      <td>-0.445505</td>\n",
              "      <td>-0.451563</td>\n",
              "      <td>1.411463</td>\n",
              "      <td>2.303364</td>\n",
              "      <td>-0.441940</td>\n",
              "      <td>-1.451099</td>\n",
              "      <td>-0.308738</td>\n",
              "      <td>1.039891</td>\n",
              "      <td>-0.873034</td>\n",
              "    </tr>\n",
              "    <tr>\n",
              "      <th>10955</th>\n",
              "      <td>-1.796694</td>\n",
              "      <td>1.422394</td>\n",
              "      <td>-1.790855</td>\n",
              "      <td>0.290460</td>\n",
              "      <td>1.001690</td>\n",
              "      <td>-0.515133</td>\n",
              "      <td>1.363429</td>\n",
              "      <td>-0.443829</td>\n",
              "      <td>-0.446551</td>\n",
              "      <td>-0.445505</td>\n",
              "      <td>-0.451563</td>\n",
              "      <td>1.411463</td>\n",
              "      <td>2.303364</td>\n",
              "      <td>-0.441940</td>\n",
              "      <td>-1.451099</td>\n",
              "      <td>-0.308738</td>\n",
              "      <td>1.039891</td>\n",
              "      <td>-0.873034</td>\n",
              "    </tr>\n",
              "    <tr>\n",
              "      <th>905</th>\n",
              "      <td>-0.051017</td>\n",
              "      <td>0.715649</td>\n",
              "      <td>-1.331190</td>\n",
              "      <td>-0.371349</td>\n",
              "      <td>1.001690</td>\n",
              "      <td>-0.017602</td>\n",
              "      <td>-1.531407</td>\n",
              "      <td>-0.443829</td>\n",
              "      <td>-0.446551</td>\n",
              "      <td>-0.445505</td>\n",
              "      <td>-0.451563</td>\n",
              "      <td>1.411463</td>\n",
              "      <td>-0.434148</td>\n",
              "      <td>-0.441940</td>\n",
              "      <td>0.689133</td>\n",
              "      <td>-0.308738</td>\n",
              "      <td>1.039891</td>\n",
              "      <td>-0.873034</td>\n",
              "    </tr>\n",
              "    <tr>\n",
              "      <th>5192</th>\n",
              "      <td>0.821822</td>\n",
              "      <td>0.715649</td>\n",
              "      <td>0.465681</td>\n",
              "      <td>-0.371349</td>\n",
              "      <td>1.001690</td>\n",
              "      <td>-0.328559</td>\n",
              "      <td>0.879015</td>\n",
              "      <td>2.253122</td>\n",
              "      <td>-0.446551</td>\n",
              "      <td>-0.445505</td>\n",
              "      <td>-0.451563</td>\n",
              "      <td>-0.708485</td>\n",
              "      <td>-0.434148</td>\n",
              "      <td>2.262749</td>\n",
              "      <td>-1.451099</td>\n",
              "      <td>-0.308738</td>\n",
              "      <td>1.039891</td>\n",
              "      <td>-0.873034</td>\n",
              "    </tr>\n",
              "    <tr>\n",
              "      <th>235</th>\n",
              "      <td>-1.796694</td>\n",
              "      <td>-0.697840</td>\n",
              "      <td>-1.602810</td>\n",
              "      <td>-0.371349</td>\n",
              "      <td>1.001690</td>\n",
              "      <td>1.537183</td>\n",
              "      <td>-1.404478</td>\n",
              "      <td>-0.443829</td>\n",
              "      <td>-0.446551</td>\n",
              "      <td>-0.445505</td>\n",
              "      <td>-0.451563</td>\n",
              "      <td>1.411463</td>\n",
              "      <td>-0.434148</td>\n",
              "      <td>-0.441940</td>\n",
              "      <td>0.689133</td>\n",
              "      <td>-0.308738</td>\n",
              "      <td>1.039891</td>\n",
              "      <td>-0.873034</td>\n",
              "    </tr>\n",
              "  </tbody>\n",
              "</table>\n",
              "<p>7699 rows × 18 columns</p>\n",
              "</div>"
            ],
            "text/plain": [
              "       Customer_care_calls  ...  Product_importance_medium\n",
              "4177             -0.051017  ...                  -0.873034\n",
              "1616             -0.923855  ...                  -0.873034\n",
              "2775             -0.051017  ...                  -0.873034\n",
              "10272            -0.051017  ...                   1.145431\n",
              "6836             -0.051017  ...                  -0.873034\n",
              "...                    ...  ...                        ...\n",
              "7813             -0.051017  ...                  -0.873034\n",
              "10955            -1.796694  ...                  -0.873034\n",
              "905              -0.051017  ...                  -0.873034\n",
              "5192              0.821822  ...                  -0.873034\n",
              "235              -1.796694  ...                  -0.873034\n",
              "\n",
              "[7699 rows x 18 columns]"
            ]
          },
          "metadata": {
            "tags": []
          },
          "execution_count": 12
        }
      ]
    },
    {
      "cell_type": "code",
      "metadata": {
        "colab": {
          "base_uri": "https://localhost:8080/"
        },
        "id": "HP5UoZqMg8Ln",
        "outputId": "d4a3f3f3-948e-4937-c506-74a0f9f90763"
      },
      "source": [
        "y_train\n"
      ],
      "execution_count": 13,
      "outputs": [
        {
          "output_type": "execute_result",
          "data": {
            "text/plain": [
              "4177     1\n",
              "1616     1\n",
              "2775     1\n",
              "10272    0\n",
              "6836     0\n",
              "        ..\n",
              "7813     0\n",
              "10955    0\n",
              "905      1\n",
              "5192     1\n",
              "235      1\n",
              "Name: Reached.on.Time_Y.N, Length: 7699, dtype: int64"
            ]
          },
          "metadata": {
            "tags": []
          },
          "execution_count": 13
        }
      ]
    },
    {
      "cell_type": "markdown",
      "metadata": {
        "id": "foRlZgzkhCxR"
      },
      "source": [
        "**Training**\n"
      ]
    },
    {
      "cell_type": "code",
      "metadata": {
        "colab": {
          "base_uri": "https://localhost:8080/"
        },
        "id": "9pDuxdxqg8an",
        "outputId": "d85a9464-4db6-4e56-f71b-e2c4e62342e8"
      },
      "source": [
        "models = {\n",
        "    \"                   Logistic Regression\": LogisticRegression(),\n",
        "    \"                   K-Nearest Neighbors\": KNeighborsClassifier(),\n",
        "    \"                         Decision Tree\": DecisionTreeClassifier(),\n",
        "    \"Support Vector Machine (Linear Kernel)\": LinearSVC(),\n",
        "    \"   Support Vector Machine (RBF Kernel)\": SVC(),\n",
        "    \"                        Neural Network\": MLPClassifier(),\n",
        "    \"                         Random Forest\": RandomForestClassifier(),\n",
        "    \"                     Gradient Boosting\": GradientBoostingClassifier(),\n",
        "    \"                               XGBoost\": XGBClassifier(eval_metric='mlogloss'),\n",
        "    \"                              LightGBM\": LGBMClassifier(),\n",
        "    \"                              CatBoost\": CatBoostClassifier(verbose=0)\n",
        "}\n",
        "\n",
        "for name, model in models.items():\n",
        "    model.fit(X_train, y_train)\n",
        "    print(name + \" trained.\")"
      ],
      "execution_count": 14,
      "outputs": [
        {
          "output_type": "stream",
          "text": [
            "                   Logistic Regression trained.\n",
            "                   K-Nearest Neighbors trained.\n",
            "                         Decision Tree trained.\n",
            "Support Vector Machine (Linear Kernel) trained.\n",
            "   Support Vector Machine (RBF Kernel) trained.\n",
            "                        Neural Network trained.\n",
            "                         Random Forest trained.\n",
            "                     Gradient Boosting trained.\n",
            "                               XGBoost trained.\n",
            "                              LightGBM trained.\n",
            "                              CatBoost trained.\n"
          ],
          "name": "stdout"
        }
      ]
    },
    {
      "cell_type": "markdown",
      "metadata": {
        "id": "n97B7NefhW7v"
      },
      "source": [
        "**Results**"
      ]
    },
    {
      "cell_type": "code",
      "metadata": {
        "colab": {
          "base_uri": "https://localhost:8080/"
        },
        "id": "iQgE_st8hZ_j",
        "outputId": "82d1dc10-daea-40fc-eab5-04a442c3c4ba"
      },
      "source": [
        "for name, model in models.items():\n",
        "    print(name + \": {:.2f}%\".format(model.score(X_test, y_test) * 100))"
      ],
      "execution_count": 15,
      "outputs": [
        {
          "output_type": "stream",
          "text": [
            "                   Logistic Regression: 63.55%\n",
            "                   K-Nearest Neighbors: 63.67%\n",
            "                         Decision Tree: 65.33%\n",
            "Support Vector Machine (Linear Kernel): 63.70%\n",
            "   Support Vector Machine (RBF Kernel): 65.12%\n",
            "                        Neural Network: 64.06%\n",
            "                         Random Forest: 64.94%\n",
            "                     Gradient Boosting: 68.03%\n",
            "                               XGBoost: 68.58%\n",
            "                              LightGBM: 66.91%\n",
            "                              CatBoost: 66.09%\n"
          ],
          "name": "stdout"
        }
      ]
    },
    {
      "cell_type": "code",
      "metadata": {
        "id": "wOdWn-h7hgX9"
      },
      "source": [
        ""
      ],
      "execution_count": null,
      "outputs": []
    }
  ]
}